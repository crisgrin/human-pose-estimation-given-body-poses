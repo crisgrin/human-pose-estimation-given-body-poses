{
 "cells": [
  {
   "cell_type": "markdown",
   "metadata": {},
   "source": [
    "Install libraries"
   ]
  },
  {
   "cell_type": "code",
   "execution_count": 1,
   "metadata": {},
   "outputs": [],
   "source": [
    "# %pip install torch==1.9.0 torchvision==0.10.0 torchaudio==0.9.0\n",
    "# !pip install mmcv-full==1.3.9 -f https://download.openmmlab.com/mmcv/dist/cu111/torch1.9.0/index.html\n",
    "\n",
    "# !pip install openmim\n",
    "# !mim install mmcv-full\n",
    "# !git clone https://github.com/open-mmlab/mmpose.git\n",
    "# !cd mmpose && pip install -e ."
   ]
  },
  {
   "cell_type": "code",
   "execution_count": 2,
   "metadata": {},
   "outputs": [],
   "source": [
    "# !python -m pip install tensorflow-macos\n",
    "# !pip install sklearn"
   ]
  },
  {
   "cell_type": "markdown",
   "metadata": {},
   "source": [
    "Import Libraries"
   ]
  },
  {
   "cell_type": "code",
   "execution_count": 1,
   "metadata": {},
   "outputs": [],
   "source": [
    "import json\n",
    "import os\n",
    "import numpy as np\n",
    "import pandas as pd    \n",
    "import matplotlib.pyplot as plt\n",
    "import cv2\n",
    "import random\n",
    "\n",
    "\n",
    "# from keras.utils import to_categorical\n",
    "from sklearn.model_selection import train_test_split\n",
    "from sklearn.preprocessing import OneHotEncoder\n",
    "\n",
    "from keras.callbacks import EarlyStopping\n",
    "from keras.layers import Dense, Conv2D,  MaxPool2D, Flatten, GlobalAveragePooling2D,  BatchNormalization, Layer, Add\n",
    "from keras.models import Model\n",
    "import tensorflow as tf\n",
    "\n",
    "\n",
    "# for modeling\n",
    "import keras\n",
    "from keras.callbacks import EarlyStopping\n",
    "\n",
    "# Restart the environment after the installation and before the import\n",
    "from mmpose.core.visualization import imshow_keypoints"
   ]
  },
  {
   "cell_type": "markdown",
   "metadata": {},
   "source": [
    "Settings"
   ]
  },
  {
   "cell_type": "code",
   "execution_count": 2,
   "metadata": {},
   "outputs": [],
   "source": [
    "DATASET_SIZE = \"five_hundred\"\n",
    "GRAY_IMAGE = False\n",
    "RESIZE_320 = True\n",
    "\n",
    "IMAGE_RESOLUTION = \"320_320\" if RESIZE_320 else \"640_640\"\n",
    "GRAY_SCALE = '1' if GRAY_IMAGE else '3'\n",
    "\n",
    "FOLDER_PATH = '../posture_data/'+DATASET_SIZE+'/'"
   ]
  },
  {
   "cell_type": "markdown",
   "metadata": {},
   "source": [
    "Prepare the data"
   ]
  },
  {
   "cell_type": "markdown",
   "metadata": {},
   "source": [
    "Skeleton settings and colors"
   ]
  },
  {
   "cell_type": "code",
   "execution_count": 3,
   "metadata": {},
   "outputs": [],
   "source": [
    "# Linking between the joints of the skeleton\n",
    "skeleton = [[0, 1], [0, 2], [1, 3], [2, 4], [3, 5], [4, 5], [4, 6], [5, 7], [6,8], [7, 9], \n",
    "            [4, 10], [5, 11], [10,11], [10, 12], [11, 13], [12, 14], [13, 15]]\n",
    "\n",
    "# Palette of colors to choose from\n",
    "palette = np.array([[255, 128, 0], [255, 153, 51], [255, 178, 102],\n",
    "                    [230, 230, 0], [255, 153, 255], [153, 204, 255],\n",
    "                    [255, 102, 255], [255, 51, 255], [102, 178, 255],\n",
    "                    [51, 153, 255], [255, 153, 153], [255, 102, 102],\n",
    "                    [255, 51, 51], [153, 255, 153], [102, 255, 102],\n",
    "                    [51, 255, 51], [0, 255, 0], [0, 0, 255],\n",
    "                    [255, 0, 0], [255, 255, 255]])\n",
    "\n",
    "# pose_kpt_color = [None] + [(127, 127, 127)] * (len(kpts[1]) - 1)\n",
    "# Colors for the joints\n",
    "pose_kpt_color = palette[[\n",
    "            0, 0, 0, 0, 7, 7, 9, 9, 9, 9, \n",
    "            7, 7, 16, 16, 16, 16\n",
    "        ]]    \n",
    "\n",
    "# Colors for the linkings\n",
    "pose_link_color = palette[[\n",
    "                0, 0, 0, 0, 0, 7, 9, 9, 9, 9,\n",
    "                7, 7, 7, 16, 16, 16, 16 \n",
    "            ]]    "
   ]
  },
  {
   "cell_type": "markdown",
   "metadata": {},
   "source": [
    "Draw lines given images, key points and the linkings between the keypoints"
   ]
  },
  {
   "cell_type": "code",
   "execution_count": 4,
   "metadata": {},
   "outputs": [],
   "source": [
    "def draw_joint_line(img, kpts):\n",
    "    for person in kpts:\n",
    "        for joint in person:\n",
    "            joint.append(1)\n",
    "\n",
    "    # Draw the linkings between joints and return the image\n",
    "    return imshow_keypoints(\n",
    "        img,\n",
    "        kpts,\n",
    "        skeleton = skeleton,\n",
    "        pose_kpt_color = pose_kpt_color,\n",
    "        pose_link_color = pose_link_color,\n",
    "        show_keypoint_weight=True\n",
    "    )"
   ]
  },
  {
   "cell_type": "markdown",
   "metadata": {},
   "source": [
    "Draw skeletons for each image"
   ]
  },
  {
   "cell_type": "code",
   "execution_count": 19,
   "metadata": {},
   "outputs": [
    {
     "name": "stdout",
     "output_type": "stream",
     "text": [
      "1_bb.json\n",
      "|██████▌⚠︎                                | (!) 81/500 [16%] in 2.7s (30.28/s)                                           \n"
     ]
    },
    {
     "ename": "KeyboardInterrupt",
     "evalue": "",
     "output_type": "error",
     "traceback": [
      "\u001b[0;31m---------------------------------------------------------------------------\u001b[0m",
      "\u001b[0;31mKeyboardInterrupt\u001b[0m                         Traceback (most recent call last)",
      "\u001b[1;32m/Users/cristianverdecchia/Documents/University/Master/Advanced Computer Vision & Image Processing/human_pose_estimation/SJ-CV/SkeletonCNN.ipynb Cell 14\u001b[0m in \u001b[0;36m<cell line: 6>\u001b[0;34m()\u001b[0m\n\u001b[1;32m     <a href='vscode-notebook-cell:/Users/cristianverdecchia/Documents/University/Master/Advanced%20Computer%20Vision%20%26%20Image%20Processing/human_pose_estimation/SJ-CV/SkeletonCNN.ipynb#X16sZmlsZQ%3D%3D?line=17'>18</a>\u001b[0m ppl_joints\u001b[39m.\u001b[39mappend(\u001b[39mlist\u001b[39m(image[\u001b[39m'\u001b[39m\u001b[39mperson_2\u001b[39m\u001b[39m'\u001b[39m]\u001b[39m.\u001b[39mvalues()))\n\u001b[1;32m     <a href='vscode-notebook-cell:/Users/cristianverdecchia/Documents/University/Master/Advanced%20Computer%20Vision%20%26%20Image%20Processing/human_pose_estimation/SJ-CV/SkeletonCNN.ipynb#X16sZmlsZQ%3D%3D?line=19'>20</a>\u001b[0m zeros_image \u001b[39m=\u001b[39m np\u001b[39m.\u001b[39mzeros((\u001b[39m640\u001b[39m, \u001b[39m640\u001b[39m, \u001b[39m3\u001b[39m), dtype\u001b[39m=\u001b[39m\u001b[39m\"\u001b[39m\u001b[39mfloat32\u001b[39m\u001b[39m\"\u001b[39m)\n\u001b[0;32m---> <a href='vscode-notebook-cell:/Users/cristianverdecchia/Documents/University/Master/Advanced%20Computer%20Vision%20%26%20Image%20Processing/human_pose_estimation/SJ-CV/SkeletonCNN.ipynb#X16sZmlsZQ%3D%3D?line=20'>21</a>\u001b[0m skeleton_on_image \u001b[39m=\u001b[39m draw_joint_line(zeros_image, ppl_joints)\n\u001b[1;32m     <a href='vscode-notebook-cell:/Users/cristianverdecchia/Documents/University/Master/Advanced%20Computer%20Vision%20%26%20Image%20Processing/human_pose_estimation/SJ-CV/SkeletonCNN.ipynb#X16sZmlsZQ%3D%3D?line=21'>22</a>\u001b[0m \u001b[39mif\u001b[39;00m RESIZE_320:\n\u001b[1;32m     <a href='vscode-notebook-cell:/Users/cristianverdecchia/Documents/University/Master/Advanced%20Computer%20Vision%20%26%20Image%20Processing/human_pose_estimation/SJ-CV/SkeletonCNN.ipynb#X16sZmlsZQ%3D%3D?line=22'>23</a>\u001b[0m   skeleton_on_image \u001b[39m=\u001b[39m cv2\u001b[39m.\u001b[39mresize(skeleton_on_image, (\u001b[39m320\u001b[39m, \u001b[39m320\u001b[39m))\n",
      "\u001b[1;32m/Users/cristianverdecchia/Documents/University/Master/Advanced Computer Vision & Image Processing/human_pose_estimation/SJ-CV/SkeletonCNN.ipynb Cell 14\u001b[0m in \u001b[0;36mdraw_joint_line\u001b[0;34m(img, kpts)\u001b[0m\n\u001b[1;32m      <a href='vscode-notebook-cell:/Users/cristianverdecchia/Documents/University/Master/Advanced%20Computer%20Vision%20%26%20Image%20Processing/human_pose_estimation/SJ-CV/SkeletonCNN.ipynb#X16sZmlsZQ%3D%3D?line=3'>4</a>\u001b[0m         joint\u001b[39m.\u001b[39mappend(\u001b[39m1\u001b[39m)\n\u001b[1;32m      <a href='vscode-notebook-cell:/Users/cristianverdecchia/Documents/University/Master/Advanced%20Computer%20Vision%20%26%20Image%20Processing/human_pose_estimation/SJ-CV/SkeletonCNN.ipynb#X16sZmlsZQ%3D%3D?line=5'>6</a>\u001b[0m \u001b[39m# Draw the linkings between joints and return the image\u001b[39;00m\n\u001b[0;32m----> <a href='vscode-notebook-cell:/Users/cristianverdecchia/Documents/University/Master/Advanced%20Computer%20Vision%20%26%20Image%20Processing/human_pose_estimation/SJ-CV/SkeletonCNN.ipynb#X16sZmlsZQ%3D%3D?line=6'>7</a>\u001b[0m \u001b[39mreturn\u001b[39;00m imshow_keypoints(\n\u001b[1;32m      <a href='vscode-notebook-cell:/Users/cristianverdecchia/Documents/University/Master/Advanced%20Computer%20Vision%20%26%20Image%20Processing/human_pose_estimation/SJ-CV/SkeletonCNN.ipynb#X16sZmlsZQ%3D%3D?line=7'>8</a>\u001b[0m     img,\n\u001b[1;32m      <a href='vscode-notebook-cell:/Users/cristianverdecchia/Documents/University/Master/Advanced%20Computer%20Vision%20%26%20Image%20Processing/human_pose_estimation/SJ-CV/SkeletonCNN.ipynb#X16sZmlsZQ%3D%3D?line=8'>9</a>\u001b[0m     kpts,\n\u001b[1;32m     <a href='vscode-notebook-cell:/Users/cristianverdecchia/Documents/University/Master/Advanced%20Computer%20Vision%20%26%20Image%20Processing/human_pose_estimation/SJ-CV/SkeletonCNN.ipynb#X16sZmlsZQ%3D%3D?line=9'>10</a>\u001b[0m     skeleton \u001b[39m=\u001b[39;49m skeleton,\n\u001b[1;32m     <a href='vscode-notebook-cell:/Users/cristianverdecchia/Documents/University/Master/Advanced%20Computer%20Vision%20%26%20Image%20Processing/human_pose_estimation/SJ-CV/SkeletonCNN.ipynb#X16sZmlsZQ%3D%3D?line=10'>11</a>\u001b[0m     pose_kpt_color \u001b[39m=\u001b[39;49m pose_kpt_color,\n\u001b[1;32m     <a href='vscode-notebook-cell:/Users/cristianverdecchia/Documents/University/Master/Advanced%20Computer%20Vision%20%26%20Image%20Processing/human_pose_estimation/SJ-CV/SkeletonCNN.ipynb#X16sZmlsZQ%3D%3D?line=11'>12</a>\u001b[0m     pose_link_color \u001b[39m=\u001b[39;49m pose_link_color,\n\u001b[1;32m     <a href='vscode-notebook-cell:/Users/cristianverdecchia/Documents/University/Master/Advanced%20Computer%20Vision%20%26%20Image%20Processing/human_pose_estimation/SJ-CV/SkeletonCNN.ipynb#X16sZmlsZQ%3D%3D?line=12'>13</a>\u001b[0m     show_keypoint_weight\u001b[39m=\u001b[39;49m\u001b[39mTrue\u001b[39;49;00m\n\u001b[1;32m     <a href='vscode-notebook-cell:/Users/cristianverdecchia/Documents/University/Master/Advanced%20Computer%20Vision%20%26%20Image%20Processing/human_pose_estimation/SJ-CV/SkeletonCNN.ipynb#X16sZmlsZQ%3D%3D?line=13'>14</a>\u001b[0m )\n",
      "File \u001b[0;32m~/miniconda3/envs/skeletoncnn/lib/python3.9/site-packages/mmcv/utils/misc.py:330\u001b[0m, in \u001b[0;36mdeprecated_api_warning.<locals>.api_warning_wrapper.<locals>.new_func\u001b[0;34m(*args, **kwargs)\u001b[0m\n\u001b[1;32m    327\u001b[0m             kwargs[dst_arg_name] \u001b[39m=\u001b[39m kwargs\u001b[39m.\u001b[39mpop(src_arg_name)\n\u001b[1;32m    329\u001b[0m \u001b[39m# apply converted arguments to the decorated method\u001b[39;00m\n\u001b[0;32m--> 330\u001b[0m output \u001b[39m=\u001b[39m old_func(\u001b[39m*\u001b[39;49margs, \u001b[39m*\u001b[39;49m\u001b[39m*\u001b[39;49mkwargs)\n\u001b[1;32m    331\u001b[0m \u001b[39mreturn\u001b[39;00m output\n",
      "File \u001b[0;32m~/Documents/University/Master/Advanced Computer Vision & Image Processing/human_pose_estimation/SJ-CV/ViTPose/mmpose/core/visualization/image.py:192\u001b[0m, in \u001b[0;36mimshow_keypoints\u001b[0;34m(img, pose_result, skeleton, kpt_score_thr, pose_kpt_color, pose_link_color, radius, thickness, show_keypoint_weight)\u001b[0m\n\u001b[1;32m    189\u001b[0m     cv2\u001b[39m.\u001b[39mfillConvexPoly(img_copy, polygon, color)\n\u001b[1;32m    190\u001b[0m     transparency \u001b[39m=\u001b[39m \u001b[39mmax\u001b[39m(\n\u001b[1;32m    191\u001b[0m         \u001b[39m0\u001b[39m, \u001b[39mmin\u001b[39m(\u001b[39m1\u001b[39m, \u001b[39m0.5\u001b[39m \u001b[39m*\u001b[39m (kpts[sk[\u001b[39m0\u001b[39m], \u001b[39m2\u001b[39m] \u001b[39m+\u001b[39m kpts[sk[\u001b[39m1\u001b[39m], \u001b[39m2\u001b[39m])))\n\u001b[0;32m--> 192\u001b[0m     cv2\u001b[39m.\u001b[39;49maddWeighted(\n\u001b[1;32m    193\u001b[0m         img_copy,\n\u001b[1;32m    194\u001b[0m         transparency,\n\u001b[1;32m    195\u001b[0m         img,\n\u001b[1;32m    196\u001b[0m         \u001b[39m1\u001b[39;49m \u001b[39m-\u001b[39;49m transparency,\n\u001b[1;32m    197\u001b[0m         \u001b[39m0\u001b[39;49m,\n\u001b[1;32m    198\u001b[0m         dst\u001b[39m=\u001b[39;49mimg)\n\u001b[1;32m    199\u001b[0m \u001b[39melse\u001b[39;00m:\n\u001b[1;32m    200\u001b[0m     cv2\u001b[39m.\u001b[39mline(img, pos1, pos2, color, thickness\u001b[39m=\u001b[39mthickness)\n",
      "\u001b[0;31mKeyboardInterrupt\u001b[0m: "
     ]
    }
   ],
   "source": [
    "from alive_progress import alive_bar\n",
    "\n",
    "full_images = []\n",
    "\n",
    "# Loop through the annotation files\n",
    "for file_label in os.listdir(FOLDER_PATH):\n",
    "  # Read the file content\n",
    "  with open(FOLDER_PATH + file_label) as f:\n",
    "    file_annotations = json.load(f)\n",
    "  print(file_label)\n",
    "  \n",
    "  take_half = True\n",
    "  with alive_bar(int(len(file_annotations.values())), force_tty = True) as bar:\n",
    "    # Loop through the images and save the data\n",
    "    for image in file_annotations.values():\n",
    "      # if take_half:\n",
    "      ppl_joints = [list(image['person_1'].values())]\n",
    "      ppl_joints.append(list(image['person_2'].values()))\n",
    "      \n",
    "      zeros_image = np.zeros((640, 640, 3), dtype=\"float32\")\n",
    "      skeleton_on_image = draw_joint_line(zeros_image, ppl_joints)\n",
    "      if RESIZE_320:\n",
    "        skeleton_on_image = cv2.resize(skeleton_on_image, (320, 320))\n",
    "      if GRAY_IMAGE:\n",
    "        skeleton_on_image = cv2.cvtColor(skeleton_on_image, cv2.COLOR_RGB2GRAY)\n",
    "                  \n",
    "      # Creates a list of images with the annotations\n",
    "      full_images.append((\n",
    "          skeleton_on_image, \n",
    "          int(file_label[0])\n",
    "          ))  \n",
    "      bar()\n",
    "      \n",
    "      #   take_half = False\n",
    "      # else:\n",
    "      #   take_half = True"
   ]
  },
  {
   "cell_type": "markdown",
   "metadata": {},
   "source": [
    "Save the images with the poses"
   ]
  },
  {
   "cell_type": "code",
   "execution_count": 6,
   "metadata": {},
   "outputs": [
    {
     "name": "stderr",
     "output_type": "stream",
     "text": [
      "/Users/cristianverdecchia/miniconda3/envs/skeletoncnn/lib/python3.9/site-packages/numpy/lib/npyio.py:501: VisibleDeprecationWarning: Creating an ndarray from ragged nested sequences (which is a list-or-tuple of lists-or-tuples-or ndarrays with different lengths or shapes) is deprecated. If you meant to do this, you must specify 'dtype=object' when creating the ndarray.\n",
      "  arr = np.asanyarray(arr)\n"
     ]
    }
   ],
   "source": [
    "with open('../posture_data/images_skeletons/images_with_poses_{}_{}_{}.npy'.format(DATASET_SIZE, IMAGE_RESOLUTION, GRAY_SCALE), 'wb') as f:\n",
    "    # np.save(f, np.array(full_images, dtype=object)) \n",
    "    np.save(f, full_images)"
   ]
  },
  {
   "cell_type": "markdown",
   "metadata": {},
   "source": [
    "If you already have the data, read them"
   ]
  },
  {
   "cell_type": "code",
   "execution_count": 7,
   "metadata": {},
   "outputs": [],
   "source": [
    "with open('../posture_data/images_skeletons/images_with_poses_{}_{}_{}.npy'.format(DATASET_SIZE, IMAGE_RESOLUTION, GRAY_SCALE), 'rb') as f:\n",
    "    images_with_poses = np.load(f, allow_pickle = True)"
   ]
  },
  {
   "cell_type": "markdown",
   "metadata": {},
   "source": [
    "Split the images for training and testing"
   ]
  },
  {
   "cell_type": "code",
   "execution_count": 8,
   "metadata": {},
   "outputs": [
    {
     "data": {
      "text/plain": [
       "(3000, 2)"
      ]
     },
     "execution_count": 8,
     "metadata": {},
     "output_type": "execute_result"
    }
   ],
   "source": [
    "np.shape(images_with_poses)"
   ]
  },
  {
   "cell_type": "code",
   "execution_count": 9,
   "metadata": {},
   "outputs": [],
   "source": [
    "x = []\n",
    "y = []\n",
    "\n",
    "for image in images_with_poses:\n",
    "    x.append(image[0])\n",
    "    y.append(image[1])\n",
    "\n",
    "x = np.array(x)\n",
    "y = np.array(y)\n",
    "\n",
    "x_train, x_test, y_train, y_test = train_test_split(x, y, test_size=0.05)"
   ]
  },
  {
   "cell_type": "markdown",
   "metadata": {},
   "source": [
    "Normalize the data"
   ]
  },
  {
   "cell_type": "code",
   "execution_count": 10,
   "metadata": {},
   "outputs": [],
   "source": [
    "x_train /= 255.0\n",
    "x_test /= 255.0"
   ]
  },
  {
   "cell_type": "code",
   "execution_count": 11,
   "metadata": {},
   "outputs": [
    {
     "data": {
      "text/plain": [
       "2850"
      ]
     },
     "execution_count": 11,
     "metadata": {},
     "output_type": "execute_result"
    }
   ],
   "source": [
    "len(x_train)"
   ]
  },
  {
   "cell_type": "code",
   "execution_count": 12,
   "metadata": {},
   "outputs": [],
   "source": [
    "if GRAY_IMAGE:\n",
    "    x_train_unidimensional = x_train.reshape(-1, 320, 320, 1)\n",
    "    x_test_unidimensional = x_test.reshape(-1, 320, 320, 1)"
   ]
  },
  {
   "cell_type": "code",
   "execution_count": 13,
   "metadata": {},
   "outputs": [],
   "source": [
    "encoder = OneHotEncoder()\n",
    "encoder.fit(y_train.reshape(-1, 1))\n",
    "y_train = encoder.transform(y_train.reshape(-1, 1)).toarray()\n",
    "y_test = encoder.transform(y_test.reshape(-1, 1)).toarray()"
   ]
  },
  {
   "cell_type": "markdown",
   "metadata": {},
   "source": [
    "Standard ResNet18"
   ]
  },
  {
   "cell_type": "code",
   "execution_count": 14,
   "metadata": {},
   "outputs": [],
   "source": [
    "\"\"\"\n",
    "ResNet-18\n",
    "Reference:\n",
    "[1] K. He et al. Deep Residual Learning for Image Recognition. CVPR, 2016\n",
    "[2] K. He, X. Zhang, S. Ren, and J. Sun. Delving deep into rectifiers:\n",
    "Surpassing human-level performance on imagenet classification. In\n",
    "ICCV, 2015.\n",
    "\"\"\"\n",
    "\n",
    "\n",
    "class ResnetBlock(Model):\n",
    "    \"\"\"\n",
    "    A standard resnet block.\n",
    "    \"\"\"\n",
    "\n",
    "    def __init__(self, channels: int, down_sample=False):\n",
    "        \"\"\"\n",
    "        channels: same as number of convolution kernels\n",
    "        \"\"\"\n",
    "        super().__init__()\n",
    "\n",
    "        self.__channels = channels\n",
    "        self.__down_sample = down_sample\n",
    "        self.__strides = [2, 1] if down_sample else [1, 1]\n",
    "\n",
    "        KERNEL_SIZE = (3, 3)\n",
    "        # use He initialization, instead of Xavier (a.k.a 'glorot_uniform' in Keras), as suggested in [2]\n",
    "        INIT_SCHEME = \"he_normal\"\n",
    "\n",
    "        self.conv_1 = Conv2D(self.__channels, strides=self.__strides[0],\n",
    "                             kernel_size=KERNEL_SIZE, padding=\"same\", kernel_initializer=INIT_SCHEME)\n",
    "        self.bn_1 = BatchNormalization()\n",
    "        self.conv_2 = Conv2D(self.__channels, strides=self.__strides[1],\n",
    "                             kernel_size=KERNEL_SIZE, padding=\"same\", kernel_initializer=INIT_SCHEME)\n",
    "        self.bn_2 = BatchNormalization()\n",
    "        self.merge = Add()\n",
    "\n",
    "        if self.__down_sample:\n",
    "            # perform down sampling using stride of 2, according to [1].\n",
    "            self.res_conv = Conv2D(\n",
    "                self.__channels, strides=2, kernel_size=(1, 1), kernel_initializer=INIT_SCHEME, padding=\"same\")\n",
    "            self.res_bn = BatchNormalization()\n",
    "\n",
    "    def call(self, inputs):\n",
    "        res = inputs\n",
    "\n",
    "        x = self.conv_1(inputs)\n",
    "        x = self.bn_1(x)\n",
    "        x = tf.nn.relu(x)\n",
    "        x = self.conv_2(x)\n",
    "        x = self.bn_2(x)\n",
    "\n",
    "        if self.__down_sample:\n",
    "            res = self.res_conv(res)\n",
    "            res = self.res_bn(res)\n",
    "\n",
    "        # if not perform down sample, then add a shortcut directly\n",
    "        x = self.merge([x, res])\n",
    "        out = tf.nn.relu(x)\n",
    "        return out\n",
    "\n",
    "\n",
    "class ResNet18(Model):\n",
    "    def __init__(self, num_classes, **kwargs):\n",
    "        \"\"\"\n",
    "            num_classes: number of classes in specific classification task.\n",
    "        \"\"\"\n",
    "        super().__init__(**kwargs)\n",
    "        self.conv_1 = Conv2D(16, (7, 7), strides=2,\n",
    "                             padding=\"same\", kernel_initializer=\"he_normal\")\n",
    "        self.init_bn = BatchNormalization()\n",
    "        self.pool_2 = MaxPool2D(pool_size=(2, 2), strides=2, padding=\"same\")\n",
    "        self.res_1_1 = ResnetBlock(16, down_sample=True)\n",
    "        self.res_1_2 = ResnetBlock(16)\n",
    "        self.res_2_1 = ResnetBlock(32, down_sample=True)\n",
    "        self.res_2_2 = ResnetBlock(32)\n",
    "        self.res_3_1 = ResnetBlock(64, down_sample=True)\n",
    "        self.res_3_2 = ResnetBlock(64)\n",
    "        self.avg_pool = GlobalAveragePooling2D()\n",
    "        self.flat = Flatten()\n",
    "        self.fc = Dense(num_classes, activation=\"softmax\")\n",
    "\n",
    "    def call(self, inputs):\n",
    "        out = self.conv_1(inputs)\n",
    "        out = self.init_bn(out)\n",
    "        out = tf.nn.relu(out)\n",
    "        out = self.pool_2(out)\n",
    "        for res_block in [self.res_1_1, self.res_1_2, self.res_2_1, self.res_2_2, self.res_3_1, self.res_3_2]:\n",
    "            out = res_block(out)\n",
    "        out = self.avg_pool(out)\n",
    "        out = self.flat(out)\n",
    "        out = self.fc(out)\n",
    "        return out"
   ]
  },
  {
   "cell_type": "code",
   "execution_count": 15,
   "metadata": {},
   "outputs": [],
   "source": [
    "# Disables GPU\n",
    "# !python -m pip uninstall tensorflow-metal -y"
   ]
  },
  {
   "cell_type": "code",
   "execution_count": 16,
   "metadata": {},
   "outputs": [
    {
     "name": "stdout",
     "output_type": "stream",
     "text": [
      "WARNING:tensorflow:AutoGraph could not transform <bound method ResnetBlock.call of <__main__.ResnetBlock object at 0x176e8aeb0>> and will run it as-is.\n",
      "Cause: mangled names are not yet supported\n",
      "To silence this warning, decorate the function with @tf.autograph.experimental.do_not_convert\n",
      "WARNING: AutoGraph could not transform <bound method ResnetBlock.call of <__main__.ResnetBlock object at 0x176e8aeb0>> and will run it as-is.\n",
      "Cause: mangled names are not yet supported\n",
      "To silence this warning, decorate the function with @tf.autograph.experimental.do_not_convert\n",
      "Model: \"res_net18\"\n",
      "_________________________________________________________________\n",
      " Layer (type)                Output Shape              Param #   \n",
      "=================================================================\n",
      " conv2d (Conv2D)             multiple                  2368      \n",
      "                                                                 \n",
      " batch_normalization (BatchN  multiple                 64        \n",
      " ormalization)                                                   \n",
      "                                                                 \n",
      " max_pooling2d (MaxPooling2D  multiple                 0         \n",
      " )                                                               \n",
      "                                                                 \n",
      " resnet_block (ResnetBlock)  multiple                  5104      \n",
      "                                                                 \n",
      " resnet_block_1 (ResnetBlock  multiple                 4768      \n",
      " )                                                               \n",
      "                                                                 \n",
      " resnet_block_2 (ResnetBlock  multiple                 14816     \n",
      " )                                                               \n",
      "                                                                 \n",
      " resnet_block_3 (ResnetBlock  multiple                 18752     \n",
      " )                                                               \n",
      "                                                                 \n",
      " resnet_block_4 (ResnetBlock  multiple                 58304     \n",
      " )                                                               \n",
      "                                                                 \n",
      " resnet_block_5 (ResnetBlock  multiple                 74368     \n",
      " )                                                               \n",
      "                                                                 \n",
      " global_average_pooling2d (G  multiple                 0         \n",
      " lobalAveragePooling2D)                                          \n",
      "                                                                 \n",
      " flatten (Flatten)           multiple                  0         \n",
      "                                                                 \n",
      " dense (Dense)               multiple                  390       \n",
      "                                                                 \n",
      "=================================================================\n",
      "Total params: 178,934\n",
      "Trainable params: 177,782\n",
      "Non-trainable params: 1,152\n",
      "_________________________________________________________________\n"
     ]
    }
   ],
   "source": [
    "model = ResNet18(6)\n",
    "model.build(input_shape = (None, 320, 320, 3))\n",
    "model.compile(optimizer = \"adam\",\n",
    "            #   loss='categorical_crossentropy', \n",
    "                loss=keras.losses.CategoricalCrossentropy(),\n",
    "                metrics=[\"accuracy\"]) \n",
    "model.summary()"
   ]
  },
  {
   "cell_type": "code",
   "execution_count": 17,
   "metadata": {},
   "outputs": [
    {
     "name": "stdout",
     "output_type": "stream",
     "text": [
      "Epoch 1/50\n"
     ]
    },
    {
     "name": "stderr",
     "output_type": "stream",
     "text": [
      "2022-08-17 13:10:20.239085: W tensorflow/core/platform/profile_utils/cpu_utils.cc:128] Failed to get CPU frequency: 0 Hz\n"
     ]
    },
    {
     "name": "stdout",
     "output_type": "stream",
     "text": [
      "114/114 [==============================] - 30s 252ms/step - loss: 1.8247 - accuracy: 0.1754 - val_loss: 1.7878 - val_accuracy: 0.2267\n",
      "Epoch 2/50\n",
      "114/114 [==============================] - 30s 266ms/step - loss: 1.7889 - accuracy: 0.1930 - val_loss: 1.8049 - val_accuracy: 0.1667\n",
      "Epoch 3/50\n",
      "114/114 [==============================] - 31s 270ms/step - loss: 1.7440 - accuracy: 0.2460 - val_loss: 1.9942 - val_accuracy: 0.1933\n",
      "Epoch 4/50\n",
      "114/114 [==============================] - 32s 280ms/step - loss: 1.6836 - accuracy: 0.2961 - val_loss: 2.0371 - val_accuracy: 0.1867\n",
      "Epoch 5/50\n",
      "114/114 [==============================] - 32s 277ms/step - loss: 1.5849 - accuracy: 0.3432 - val_loss: 2.8193 - val_accuracy: 0.1533\n",
      "Epoch 6/50\n",
      "114/114 [==============================] - 30s 265ms/step - loss: 1.4787 - accuracy: 0.4218 - val_loss: 3.4716 - val_accuracy: 0.1800\n"
     ]
    }
   ],
   "source": [
    "from keras.callbacks import EarlyStopping\n",
    "\n",
    "STEPS = len(x_train) / 256\n",
    "es = EarlyStopping(patience=5, restore_best_weights=True, monitor=\"val_accuracy\")\n",
    "\n",
    "x_to_train = []\n",
    "x_to_test = []\n",
    "\n",
    "if GRAY_IMAGE:\n",
    "    x_to_train = x_train_unidimensional\n",
    "    x_to_test = x_test_unidimensional\n",
    "else:\n",
    "    x_to_train = x_train\n",
    "    x_to_test = x_test\n",
    "    \n",
    "history = model.fit(x_to_train, y_train, batch_size = 25, epochs=50, validation_data=(x_to_test, y_test), callbacks=[es])"
   ]
  },
  {
   "cell_type": "code",
   "execution_count": 18,
   "metadata": {},
   "outputs": [
    {
     "name": "stdout",
     "output_type": "stream",
     "text": [
      "5/5 [==============================] - 1s 67ms/step - loss: 1.7878 - accuracy: 0.2267\n"
     ]
    },
    {
     "data": {
      "text/plain": [
       "[1.787793755531311, 0.2266666740179062]"
      ]
     },
     "execution_count": 18,
     "metadata": {},
     "output_type": "execute_result"
    }
   ],
   "source": [
    "model.evaluate(x_to_test, y_test)"
   ]
  },
  {
   "cell_type": "code",
   "execution_count": 17,
   "metadata": {},
   "outputs": [
    {
     "name": "stderr",
     "output_type": "stream",
     "text": [
      "WARNING:absl:Found untraced functions such as _jit_compiled_convolution_op, _jit_compiled_convolution_op, _jit_compiled_convolution_op, _jit_compiled_convolution_op, _jit_compiled_convolution_op while saving (showing 5 of 16). These functions will not be directly callable after loading.\n"
     ]
    },
    {
     "name": "stdout",
     "output_type": "stream",
     "text": [
      "INFO:tensorflow:Assets written to: ../models/cnn/five_hundred_640_640_1/assets\n"
     ]
    },
    {
     "name": "stderr",
     "output_type": "stream",
     "text": [
      "INFO:tensorflow:Assets written to: ../models/cnn/five_hundred_640_640_1/assets\n"
     ]
    }
   ],
   "source": [
    "model.save(\"../models/cnn/{}_{}_{}\".format(DATASET_SIZE, IMAGE_RESOLUTION, GRAY_SCALE))"
   ]
  },
  {
   "cell_type": "code",
   "execution_count": 18,
   "metadata": {},
   "outputs": [
    {
     "data": {
      "image/png": "[encoded data removed]",
      "text/plain": [
       "<Figure size 432x288 with 1 Axes>"
      ]
     },
     "metadata": {
      "needs_background": "light"
     },
     "output_type": "display_data"
    }
   ],
   "source": [
    "history_dict = history.history\n",
    "\n",
    "# learning curve\n",
    "# accuracy\n",
    "acc = history_dict['accuracy']\n",
    "val_acc = history_dict['val_accuracy']\n",
    "\n",
    "# loss\n",
    "loss = history_dict['loss']\n",
    "val_loss = history_dict['val_loss']\n",
    "\n",
    "# range of X (no. of epochs)\n",
    "epochs = range(1, len(acc) + 1)\n",
    "\n",
    "# plot\n",
    "# \"r\" is for \"solid red line\"\n",
    "plt.plot(epochs, acc, 'r', label='Training accuracy')\n",
    "# b is for \"solid blue line\"\n",
    "plt.plot(epochs, val_acc, 'b', label='Validation accuracy')\n",
    "plt.title('Training and validation accuracy')\n",
    "plt.xlabel('Epochs')\n",
    "plt.ylabel('Accuracy')\n",
    "plt.legend()\n",
    "\n",
    "plt.show()"
   ]
  },
  {
   "cell_type": "code",
   "execution_count": 19,
   "metadata": {},
   "outputs": [
    {
     "name": "stdout",
     "output_type": "stream",
     "text": [
      "5/5 [==============================] - 1s 185ms/step\n",
      "Confusion matrix\n",
      "[[22  3  0  1  0  0]\n",
      " [ 1 23  0  1  2  0]\n",
      " [ 3 11  5  3  1  0]\n",
      " [ 2  3  1 21  2  0]\n",
      " [ 0 12  0  1  9  0]\n",
      " [ 2  4  0  1  3 13]]\n",
      "\n",
      "              precision    recall  f1-score   support\n",
      "\n",
      "           0       0.73      0.85      0.79        26\n",
      "           1       0.41      0.85      0.55        27\n",
      "           2       0.83      0.22      0.34        23\n",
      "           3       0.75      0.72      0.74        29\n",
      "           4       0.53      0.41      0.46        22\n",
      "           5       1.00      0.57      0.72        23\n",
      "\n",
      "    accuracy                           0.62       150\n",
      "   macro avg       0.71      0.60      0.60       150\n",
      "weighted avg       0.70      0.62      0.61       150\n",
      "\n"
     ]
    }
   ],
   "source": [
    "from sklearn.metrics import confusion_matrix\n",
    "from sklearn.metrics import classification_report\n",
    "\n",
    "preds = model.predict(x_to_test) \n",
    "matrix = confusion_matrix(y_test.argmax(axis=1), preds.argmax(axis=1))\n",
    "print(\"Confusion matrix\")\n",
    "print(matrix)\n",
    "print('')\n",
    "# more detail on how well things were predicted\n",
    "print(classification_report(y_test.argmax(axis=1), preds.argmax(axis=1)))"
   ]
  },
  {
   "cell_type": "code",
   "execution_count": null,
   "metadata": {},
   "outputs": [],
   "source": []
  }
 ],
 "metadata": {
  "kernelspec": {
   "display_name": "Python 3.9.12 ('skeletoncnn')",
   "language": "python",
   "name": "python3"
  },
  "language_info": {
   "codemirror_mode": {
    "name": "ipython",
    "version": 3
   },
   "file_extension": ".py",
   "mimetype": "text/x-python",
   "name": "python",
   "nbconvert_exporter": "python",
   "pygments_lexer": "ipython3",
   "version": "3.9.12"
  },
  "orig_nbformat": 4,
  "vscode": {
   "interpreter": {
    "hash": "f2dbd656668c842d22c7cc804324ef75aa425d033a96c56443a55074cc19dd74"
   }
  }
 },
 "nbformat": 4,
 "nbformat_minor": 2
}
